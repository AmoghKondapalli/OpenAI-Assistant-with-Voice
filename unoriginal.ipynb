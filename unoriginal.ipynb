{
 "cells": [
  {
   "cell_type": "markdown",
   "id": "50ed0d14",
   "metadata": {},
   "source": [
    "Requirements : \n",
    "pip install -U openai-whisper\n",
    "pip install sounddevice\n",
    "pip install openai\n",
    "pip install sounddevice\n",
    "pip install scipy\n",
    "pip install gTTS\n",
    "pip install playsound\n",
    "ffmpeg : https://ffmpeg.org/download.html"
   ]
  },
  {
   "cell_type": "code",
   "execution_count": 126,
   "id": "14d0c614",
   "metadata": {},
   "outputs": [],
   "source": [
    "import whisper\n",
    "import sounddevice as sd\n",
    "import openai\n",
    "from scipy.io.wavfile import write\n",
    "from gtts import gTTS\n",
    "from playsound import playsound"
   ]
  },
  {
   "cell_type": "code",
   "execution_count": 127,
   "id": "d52c5263",
   "metadata": {},
   "outputs": [],
   "source": [
    "model = whisper.load_model(\"base.en\")\n",
    "openai.api_key = \"\""
   ]
  },
  {
   "cell_type": "code",
   "execution_count": 148,
   "id": "dac9f1f1",
   "metadata": {},
   "outputs": [],
   "source": [
    "def start(): #, n_times = 100):\n",
    "    #input(\"Input starts\")\n",
    "    flag = True\n",
    "    while flag:\n",
    "        fs = 44100\n",
    "        seconds = 3\n",
    "        myrecording = sd.rec(int(seconds*fs), samplerate=fs, channels = 2)\n",
    "        sd.wait()\n",
    "        write(\"temp/\"+\"wake\"+\".mp3\",fs,myrecording)\n",
    "        result = model.transcribe(\"temp/wake.mp3\")\n",
    "        #print(result[\"text\"])\n",
    "        if result[\"text\"].lower().find(\"hello\")!=-1 or result[\"text\"].lower().find(\"Hello\")!=-1:\n",
    "            print(\"Function Called\")\n",
    "            res = woke()\n",
    "            flag = False\n",
    "    return res"
   ]
  },
  {
   "cell_type": "code",
   "execution_count": 149,
   "id": "ffad079f",
   "metadata": {},
   "outputs": [],
   "source": [
    "def chat(tran_text):\n",
    "    print(f'Prompt : {tran_text}')\n",
    "    response = openai.Completion.create(\n",
    "        engine = \"text-davinci-003\",\n",
    "        prompt = tran_text,\n",
    "        max_tokens = 1000,\n",
    "        n = 1,\n",
    "        frequency_penalty = 1,\n",
    "        presence_penalty = 1,\n",
    "        stop = None,\n",
    "        temperature = 0.8,\n",
    "        top_p = 1, best_of = 1\n",
    ")\n",
    "    return response.choices[0].text"
   ]
  },
  {
   "cell_type": "code",
   "execution_count": 150,
   "id": "f02f5817",
   "metadata": {},
   "outputs": [],
   "source": [
    "def woke():\n",
    "    fs = 44100\n",
    "    print(\"\\nASK\")\n",
    "    seconds = 7\n",
    "    myrecording = sd.rec(int(seconds*fs), samplerate=fs, channels = 2)\n",
    "    sd.wait()\n",
    "    write(\"temp/\"+\"woke\"+\".mp3\",fs,myrecording)\n",
    "    fresult = model.transcribe(\"temp/woke.mp3\")\n",
    "    res = chat(fresult[\"text\"])\n",
    "    #return fresult[\"text\"]\n",
    "    return res"
   ]
  },
  {
   "cell_type": "code",
   "execution_count": 151,
   "id": "84cbaa10",
   "metadata": {},
   "outputs": [],
   "source": [
    "def speak(final):\n",
    "    language = 'en'\n",
    "    tts = gTTS(text = final, lang = language)\n",
    "\n",
    "    filename = \"output.mp3\"\n",
    "    tts.save(filename)\n",
    "\n",
    "    playsound(\"output.mp3\")"
   ]
  },
  {
   "cell_type": "code",
   "execution_count": 152,
   "id": "ecc599f2",
   "metadata": {},
   "outputs": [
    {
     "name": "stdout",
     "output_type": "stream",
     "text": [
      "Function Called\n",
      "\n",
      "ASK\n",
      "Prompt :  Which song is being played right now? Listen to it and tell me.\n",
      "Response : \n",
      "\n",
      "The song being played right now is \"Tired of Talking\" by Leon.\n"
     ]
    }
   ],
   "source": [
    "final = start()\n",
    "print(f'Response : {final}')\n",
    "speak(final)"
   ]
  },
  {
   "cell_type": "code",
   "execution_count": null,
   "id": "c36913fb",
   "metadata": {},
   "outputs": [],
   "source": []
  }
 ],
 "metadata": {
  "kernelspec": {
   "display_name": "Python 3 (ipykernel)",
   "language": "python",
   "name": "python3"
  },
  "language_info": {
   "codemirror_mode": {
    "name": "ipython",
    "version": 3
   },
   "file_extension": ".py",
   "mimetype": "text/x-python",
   "name": "python",
   "nbconvert_exporter": "python",
   "pygments_lexer": "ipython3",
   "version": "3.10.10"
  }
 },
 "nbformat": 4,
 "nbformat_minor": 5
}
