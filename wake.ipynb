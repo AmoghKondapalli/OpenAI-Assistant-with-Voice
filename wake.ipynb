{
 "cells": [
  {
   "cell_type": "code",
   "execution_count": 116,
   "id": "14d0c614",
   "metadata": {},
   "outputs": [],
   "source": [
    "import whisper\n",
    "import sounddevice as sd\n",
    "import openai\n",
    "from scipy.io.wavfile import write\n",
    "from gtts import gTTS\n",
    "from playsound import playsound"
   ]
  },
  {
   "cell_type": "code",
   "execution_count": 117,
   "id": "d52c5263",
   "metadata": {},
   "outputs": [],
   "source": [
    "model = whisper.load_model(\"base.en\")\n",
    "openai.api_key = \"\""
   ]
  },
  {
   "cell_type": "code",
   "execution_count": 118,
   "id": "dac9f1f1",
   "metadata": {},
   "outputs": [],
   "source": [
    "def start(): #, n_times = 100):\n",
    "    #input(\"Input starts\")\n",
    "    flag = True\n",
    "    while flag:\n",
    "        fs = 44100\n",
    "        seconds = 3\n",
    "        myrecording = sd.rec(int(seconds*fs), samplerate=fs, channels = 2)\n",
    "        sd.wait()\n",
    "        write(\"wake\"+\".mp3\",fs,myrecording)\n",
    "        result = model.transcribe(\"wake.mp3\")\n",
    "        #print(result[\"text\"])\n",
    "        if result[\"text\"].lower().find(\"hello\")!=-1 or result[\"text\"].lower().find(\"Hello\")!=-1:\n",
    "            print(\"Function Called\")\n",
    "            res = woke()\n",
    "            flag = False\n",
    "    return res"
   ]
  },
  {
   "cell_type": "code",
   "execution_count": 119,
   "id": "ffad079f",
   "metadata": {},
   "outputs": [],
   "source": [
    "def chat(tran_text):\n",
    "    print(f'Prompt : {tran_text}')\n",
    "    response = openai.Completion.create(\n",
    "        engine = \"text-davinci-003\",\n",
    "        prompt = tran_text,\n",
    "        max_tokens = 1000,\n",
    "        n = 1,\n",
    "        frequency_penalty = 1,\n",
    "        presence_penalty = 1,\n",
    "        stop = None,\n",
    "        temperature = 0.8,\n",
    "        top_p = 1, best_of = 1\n",
    ")\n",
    "    return response.choices[0].text"
   ]
  },
  {
   "cell_type": "code",
   "execution_count": 120,
   "id": "f02f5817",
   "metadata": {},
   "outputs": [],
   "source": [
    "def woke():\n",
    "    fs = 44100\n",
    "    print(\"\\nASK\")\n",
    "    seconds = 7\n",
    "    myrecording = sd.rec(int(seconds*fs), samplerate=fs, channels = 2)\n",
    "    sd.wait()\n",
    "    write(\"woke\"+\".mp3\",fs,myrecording)\n",
    "    fresult = model.transcribe(\"woke.mp3\")\n",
    "    res = chat(fresult[\"text\"])\n",
    "    #return fresult[\"text\"]\n",
    "    return res"
   ]
  },
  {
   "cell_type": "code",
   "execution_count": 121,
   "id": "84cbaa10",
   "metadata": {},
   "outputs": [],
   "source": [
    "def speak(final):\n",
    "    language = 'en'\n",
    "    tts = gTTS(text = final, lang = language)\n",
    "\n",
    "    filename = \"output.mp3\"\n",
    "    tts.save(filename)\n",
    "\n",
    "    playsound(\"output.mp3\")"
   ]
  },
  {
   "cell_type": "code",
   "execution_count": 122,
   "id": "ecc599f2",
   "metadata": {},
   "outputs": [
    {
     "name": "stdout",
     "output_type": "stream",
     "text": [
      "Function Called\n",
      "\n",
      "ASK\n",
      "Prompt :  What is the weight of an average human being in America?\n",
      "Response : \n",
      "\n",
      "The average weight of an adult in America is approximately 196.7 pounds (89.4 kg) for men and 163.5 pounds (74.2 kg) for women, according to the Center for Disease Control and Prevention's 2018 National Health Interview Survey.\n"
     ]
    }
   ],
   "source": [
    "final = start()\n",
    "print(f'Response : {final}')\n",
    "speak(final)"
   ]
  },
  {
   "cell_type": "code",
   "execution_count": null,
   "id": "c36913fb",
   "metadata": {},
   "outputs": [],
   "source": []
  }
 ],
 "metadata": {
  "kernelspec": {
   "display_name": "Python 3 (ipykernel)",
   "language": "python",
   "name": "python3"
  },
  "language_info": {
   "codemirror_mode": {
    "name": "ipython",
    "version": 3
   },
   "file_extension": ".py",
   "mimetype": "text/x-python",
   "name": "python",
   "nbconvert_exporter": "python",
   "pygments_lexer": "ipython3",
   "version": "3.10.10"
  }
 },
 "nbformat": 4,
 "nbformat_minor": 5
}
